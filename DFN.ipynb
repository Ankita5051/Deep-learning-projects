{
  "nbformat": 4,
  "nbformat_minor": 0,
  "metadata": {
    "colab": {
      "provenance": [],
      "gpuType": "T4",
      "include_colab_link": true
    },
    "kernelspec": {
      "name": "python3",
      "display_name": "Python 3"
    },
    "language_info": {
      "name": "python"
    },
    "accelerator": "GPU"
  },
  "cells": [
    {
      "cell_type": "markdown",
      "metadata": {
        "id": "view-in-github",
        "colab_type": "text"
      },
      "source": [
        "<a href=\"https://colab.research.google.com/github/Ankita5051/DL-lab/blob/main/DFN.ipynb\" target=\"_parent\"><img src=\"https://colab.research.google.com/assets/colab-badge.svg\" alt=\"Open In Colab\"/></a>"
      ]
    },
    {
      "cell_type": "code",
      "source": [
        "import os\n",
        "os.environ[\"CUDA_VISIBLE_DEVICES\"] = \"\"  # force CPU for demo (remove for GPU)\n",
        "\n",
        "!pip install -q open_clip_torch torchvision matplotlib pillow datasets transformers evaluate\n",
        "\n",
        "import numpy as np\n",
        "import torch\n",
        "import matplotlib.pyplot as plt\n",
        "from PIL import Image\n",
        "import open_clip\n",
        "from torchvision.datasets import CIFAR100\n",
        "from torch.utils.data import DataLoader, Subset\n",
        "from open_clip import tokenizer\n",
        "from sklearn.metrics.pairwise import cosine_similarity\n",
        "\n",
        "from datasets import load_dataset\n",
        "from transformers import DistilBertTokenizerFast, DistilBertForSequenceClassification, Trainer, TrainingArguments\n",
        "import evaluate\n",
        "\n",
        "device = \"cuda\" if torch.cuda.is_available() else \"cpu\"\n"
      ],
      "metadata": {
        "colab": {
          "base_uri": "https://localhost:8080/"
        },
        "id": "Za9xFGDoAo8_",
        "outputId": "80f6173b-79b3-42aa-b3d1-106916bce217"
      },
      "execution_count": null,
      "outputs": [
        {
          "output_type": "stream",
          "name": "stdout",
          "text": [
            "\u001b[?25l   \u001b[90m━━━━━━━━━━━━━━━━━━━━━━━━━━━━━━━━━━━━━━━━\u001b[0m \u001b[32m0.0/84.1 kB\u001b[0m \u001b[31m?\u001b[0m eta \u001b[36m-:--:--\u001b[0m\r\u001b[2K   \u001b[90m━━━━━━━━━━━━━━━━━━━━━━━━━━━━━━━━━━━━━━━━\u001b[0m \u001b[32m84.1/84.1 kB\u001b[0m \u001b[31m6.3 MB/s\u001b[0m eta \u001b[36m0:00:00\u001b[0m\n",
            "\u001b[?25h✅ CLIP model loaded!\n",
            "✅ Loaded 200 images for demo\n"
          ]
        }
      ]
    },
    {
      "cell_type": "code",
      "source": [
        "\n",
        "# Load CLIP model & transforms\n",
        "\n",
        "def load_model():\n",
        "    model, _, preprocess = open_clip.create_model_and_transforms(\n",
        "        'convnext_base_w',\n",
        "        pretrained='laion2b_s13b_b82k_augreg'\n",
        "    )\n",
        "    model.eval().to(device)\n",
        "    return model, preprocess\n",
        "\n",
        "model, preprocess = load_model()\n",
        "print(\" CLIP model loaded!\")"
      ],
      "metadata": {
        "id": "CMOqNrs7CItD"
      },
      "execution_count": null,
      "outputs": []
    }
  ]
}