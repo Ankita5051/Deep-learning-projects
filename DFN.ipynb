{
  "nbformat": 4,
  "nbformat_minor": 0,
  "metadata": {
    "colab": {
      "provenance": [],
      "gpuType": "T4",
      "include_colab_link": true
    },
    "kernelspec": {
      "name": "python3",
      "display_name": "Python 3"
    },
    "language_info": {
      "name": "python"
    },
    "accelerator": "GPU"
  },
  "cells": [
    {
      "cell_type": "markdown",
      "metadata": {
        "id": "view-in-github",
        "colab_type": "text"
      },
      "source": [
        "<a href=\"https://colab.research.google.com/github/Ankita5051/DL-lab/blob/main/DFN.ipynb\" target=\"_parent\"><img src=\"https://colab.research.google.com/assets/colab-badge.svg\" alt=\"Open In Colab\"/></a>"
      ]
    },
    {
      "cell_type": "code",
      "source": [
        "import os\n",
        "\n",
        "!pip install -q open_clip_torch torchvision matplotlib pillow datasets transformers evaluate\n",
        "\n",
        "import numpy as np\n",
        "import torch\n",
        "import matplotlib.pyplot as plt\n",
        "from PIL import Image\n",
        "import open_clip\n",
        "from torchvision.datasets import CIFAR100\n",
        "from torch.utils.data import DataLoader, Subset\n",
        "from open_clip import tokenizer\n",
        "from sklearn.metrics.pairwise import cosine_similarity\n",
        "\n",
        "from datasets import load_dataset\n",
        "from transformers import DistilBertTokenizerFast, DistilBertForSequenceClassification, Trainer, TrainingArguments\n",
        "import evaluate\n",
        "\n",
        "device = \"cuda\" if torch.cuda.is_available() else \"cpu\"\n"
      ],
      "metadata": {
        "id": "Za9xFGDoAo8_"
      },
      "execution_count": 1,
      "outputs": []
    },
    {
      "cell_type": "code",
      "source": [
        "# Load CLIP model & transforms\n",
        "\n",
        "def load_model():\n",
        "    model, _, preprocess = open_clip.create_model_and_transforms(\n",
        "        'convnext_base_w',\n",
        "        pretrained='laion2b_s13b_b82k_augreg'\n",
        "    )\n",
        "    model.eval().to(device)\n",
        "    return model, preprocess\n",
        "\n",
        "model, preprocess = load_model()\n",
        "print(\" CLIP model loaded!\")"
      ],
      "metadata": {
        "id": "CMOqNrs7CItD"
      },
      "execution_count": null,
      "outputs": []
    }
  ]
}